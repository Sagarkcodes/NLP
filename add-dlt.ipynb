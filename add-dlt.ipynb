{
 "cells": [
  {
   "cell_type": "code",
   "execution_count": 1,
   "id": "c97522d7-4347-4648-b4dc-adaec7eddf7f",
   "metadata": {},
   "outputs": [],
   "source": [
    " class MorphologyProcessor:\n",
    "    def __init__(self):\n",
    "        self.add_table = {\n",
    "            'run': ['running', 'runner'],\n",
    "            'play': ['playing', 'player'],\n",
    "            'write': ['writing', 'writer'],\n",
    "            'walk': ['walking', 'walker']\n",
    "        }\n",
    "        self.delete_table = {\n",
    "            'running': 'run',\n",
    "            'playing': 'play',\n",
    "            'writing': 'write',\n",
    "            'walking': 'walk'\n",
    "        }\n",
    "    def add_affix(self, base_word):\n",
    "        if base_word in self.add_table:\n",
    "            return self.add_table[base_word]\n",
    "        else:\n",
    "            return None\n",
    "    def delete_affix(self, word):\n",
    "        if word in self.delete_table:\n",
    "            return self.delete_table[word]\n",
    "        else:\n",
    "            return None"
   ]
  },
  {
   "cell_type": "code",
   "execution_count": 3,
   "id": "7c088df2-c4a8-440a-8596-fb77c7e7eb5f",
   "metadata": {},
   "outputs": [],
   "source": [
    "morph_processor = MorphologyProcessor()"
   ]
  },
  {
   "cell_type": "code",
   "execution_count": 5,
   "id": "3345ac5c-136b-4171-a9a2-1a80e473ea22",
   "metadata": {},
   "outputs": [],
   "source": [
    "base_word_1 = 'run'\n",
    "base_word_2 = 'play'\n",
    "word_1 = 'running'\n",
    "word_2 = 'writing'"
   ]
  },
  {
   "cell_type": "code",
   "execution_count": 7,
   "id": "8f26ca73-0f63-48ac-bb9b-250aa380a6d0",
   "metadata": {},
   "outputs": [
    {
     "name": "stdout",
     "output_type": "stream",
     "text": [
      "Base word: run -> Add affix results: ['running', 'runner']\n",
      "Base word: play -> Add affix results: ['playing', 'player']\n"
     ]
    }
   ],
   "source": [
    "print(f\"Base word: {base_word_1} -> Add affix results: {morph_processor.add_affix(base_word_1)}\")\n",
    "print(f\"Base word: {base_word_2} -> Add affix results: {morph_processor.add_affix(base_word_2)}\")"
   ]
  },
  {
   "cell_type": "code",
   "execution_count": 9,
   "id": "c082ca58-13df-43c9-9155-0c47f5540812",
   "metadata": {},
   "outputs": [
    {
     "name": "stdout",
     "output_type": "stream",
     "text": [
      "Word: running -> Delete affix result: run\n",
      "Word: writing -> Delete affix result: write\n"
     ]
    }
   ],
   "source": [
    "print(f\"Word: {word_1} -> Delete affix result: {morph_processor.delete_affix(word_1)}\")\n",
    "print(f\"Word: {word_2} -> Delete affix result: {morph_processor.delete_affix(word_2)}\")"
   ]
  },
  {
   "cell_type": "code",
   "execution_count": null,
   "id": "d731a84b-eabe-4eac-81b6-9ec1435176b0",
   "metadata": {},
   "outputs": [],
   "source": []
  }
 ],
 "metadata": {
  "kernelspec": {
   "display_name": "Python 3 (ipykernel)",
   "language": "python",
   "name": "python3"
  },
  "language_info": {
   "codemirror_mode": {
    "name": "ipython",
    "version": 3
   },
   "file_extension": ".py",
   "mimetype": "text/x-python",
   "name": "python",
   "nbconvert_exporter": "python",
   "pygments_lexer": "ipython3",
   "version": "3.12.4"
  }
 },
 "nbformat": 4,
 "nbformat_minor": 5
}
