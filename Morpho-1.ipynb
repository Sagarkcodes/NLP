{
 "cells": [
  {
   "cell_type": "code",
   "execution_count": 2,
   "id": "e6014362-092d-49c8-8f20-7e9df25614cf",
   "metadata": {},
   "outputs": [],
   "source": [
    "import nltk\n",
    "from nltk.tokenize import word_tokenize\n",
    "from nltk.stem import PorterStemmer"
   ]
  },
  {
   "cell_type": "code",
   "execution_count": 4,
   "id": "f8b9d31b-5546-43f8-b4fe-e3af95543da1",
   "metadata": {},
   "outputs": [
    {
     "name": "stderr",
     "output_type": "stream",
     "text": [
      "[nltk_data] Downloading package punkt to C:\\Users\\sagar\n",
      "[nltk_data]     kharade\\AppData\\Roaming\\nltk_data...\n",
      "[nltk_data]   Unzipping tokenizers\\punkt.zip.\n"
     ]
    },
    {
     "data": {
      "text/plain": [
       "True"
      ]
     },
     "execution_count": 4,
     "metadata": {},
     "output_type": "execute_result"
    }
   ],
   "source": [
    " nltk.download('punkt')"
   ]
  },
  {
   "cell_type": "code",
   "execution_count": 6,
   "id": "b43adbdf-3af5-496b-8ef7-91890ab3b4c3",
   "metadata": {},
   "outputs": [],
   "source": [
    " text = \"The cats are running and jumping over the fence.\""
   ]
  },
  {
   "cell_type": "code",
   "execution_count": 8,
   "id": "cfcfe62f-f0ce-47aa-a7b3-551d11b3f2ed",
   "metadata": {},
   "outputs": [
    {
     "name": "stdout",
     "output_type": "stream",
     "text": [
      "Tokenized Words: ['The', 'cats', 'are', 'running', 'and', 'jumping', 'over', 'the', 'fence', '.']\n"
     ]
    }
   ],
   "source": [
    " words = word_tokenize(text)\n",
    " print(\"Tokenized Words:\", words)"
   ]
  },
  {
   "cell_type": "code",
   "execution_count": 10,
   "id": "692815f5-8f22-4d4c-886e-69035e24dbf1",
   "metadata": {},
   "outputs": [],
   "source": [
    "stemmer = PorterStemmer()"
   ]
  },
  {
   "cell_type": "code",
   "execution_count": 12,
   "id": "fe3c18c6-4229-4350-94c4-d9b7d395b94d",
   "metadata": {},
   "outputs": [
    {
     "name": "stdout",
     "output_type": "stream",
     "text": [
      "Stemmed Words: ['the', 'cat', 'are', 'run', 'and', 'jump', 'over', 'the', 'fenc', '.']\n"
     ]
    }
   ],
   "source": [
    " stemmed_words = [stemmer.stem(word) for word in words]\n",
    " print(\"Stemmed Words:\", stemmed_words)"
   ]
  },
  {
   "cell_type": "code",
   "execution_count": null,
   "id": "af99b705-aaa8-4d18-a634-cdf8b526eef8",
   "metadata": {},
   "outputs": [],
   "source": []
  }
 ],
 "metadata": {
  "kernelspec": {
   "display_name": "Python 3 (ipykernel)",
   "language": "python",
   "name": "python3"
  },
  "language_info": {
   "codemirror_mode": {
    "name": "ipython",
    "version": 3
   },
   "file_extension": ".py",
   "mimetype": "text/x-python",
   "name": "python",
   "nbconvert_exporter": "python",
   "pygments_lexer": "ipython3",
   "version": "3.12.4"
  }
 },
 "nbformat": 4,
 "nbformat_minor": 5
}
