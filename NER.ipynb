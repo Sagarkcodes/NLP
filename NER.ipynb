{
 "cells": [
  {
   "cell_type": "code",
   "execution_count": null,
   "id": "c0d1bea4-f3d9-47eb-8aea-cac3c97d8b43",
   "metadata": {},
   "outputs": [],
   "source": [
    "# Install the spaCy English model first (run this only once in your terminal or notebook)\n",
    "# !python -m spacy download en_core_web_sm\n",
    "\n",
    "# Import necessary libraries\n",
    "import spacy\n",
    "from sklearn.metrics import classification_report\n",
    "\n",
    "# Load the spaCy model once\n",
    "nlp = spacy.load(\"en_core_web_sm\")\n",
    "\n",
    "# Function to predict entities in the given text\n",
    "def predict_entities(text):\n",
    "    doc = nlp(text)\n",
    "    return [(ent.text, ent.label_) for ent in doc.ents]\n",
    "\n",
    "# Function to evaluate the NER system\n",
    "def evaluate_ner(texts_and_labels):\n",
    "    true_labels = []\n",
    "    pred_labels = []\n",
    "    \n",
    "    for text, true_ents in texts_and_labels:\n",
    "        preds = predict_entities(text)\n",
    "        true_labels.extend([label for _, label in true_ents])\n",
    "        pred_labels.extend([label for _, label in preds])\n",
    "    \n",
    "    return classification_report(true_labels, pred_labels)\n",
    "\n",
    "# ----------------- Example usage -----------------\n",
    "\n",
    "# Example text for prediction\n",
    "text = \"Apple CEO Tim Cook announced new iPhone models in California yesterday.\"\n",
    "\n",
    "print(\"\\nExample Text Entities:\")\n",
    "for entity, label in predict_entities(text):\n",
    "    print(f\"{entity}: {label}\")\n",
    "\n",
    "# Example test data for evaluation\n",
    "test_data = [\n",
    "    (\"Microsoft's Satya Nadella visited London.\", \n",
    "     [(\"Microsoft\", \"ORG\"), (\"Satya Nadella\", \"PERSON\"), (\"London\", \"GPE\")]),\n",
    "    (\"Google opened a new office in Paris.\", \n",
    "     [(\"Google\", \"ORG\"), (\"Paris\", \"GPE\")])\n",
    "]\n",
    "\n",
    "print(\"\\nEvaluation Results:\")\n",
    "print(evaluate_ner(test_data))\n"
   ]
  }
 ],
 "metadata": {
  "kernelspec": {
   "display_name": "Python 3 (ipykernel)",
   "language": "python",
   "name": "python3"
  },
  "language_info": {
   "codemirror_mode": {
    "name": "ipython",
    "version": 3
   },
   "file_extension": ".py",
   "mimetype": "text/x-python",
   "name": "python",
   "nbconvert_exporter": "python",
   "pygments_lexer": "ipython3",
   "version": "3.12.4"
  }
 },
 "nbformat": 4,
 "nbformat_minor": 5
}
