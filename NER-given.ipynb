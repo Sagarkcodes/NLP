{
 "cells": [
  {
   "cell_type": "code",
   "execution_count": null,
   "id": "59c9fd00-01bd-46e3-93d8-9f639d5f2b59",
   "metadata": {},
   "outputs": [],
   "source": [
    "# Import library\n",
    "import spacy\n",
    "\n",
    "# Load English NLP model\n",
    "nlp = spacy.load(\"en_core_web_sm\")\n",
    "\n",
    "# Function to perform NER\n",
    "def ner(text):\n",
    "    return [(ent.text, ent.label_) for ent in nlp(text).ents]\n",
    "\n",
    "# Example usage\n",
    "if __name__ == \"__main__\":\n",
    "    text = \"Barack Obama was born in Hawaii and served as the 44th President of the United States.\"\n",
    "    print(ner(text))\n"
   ]
  }
 ],
 "metadata": {
  "kernelspec": {
   "display_name": "Python 3 (ipykernel)",
   "language": "python",
   "name": "python3"
  },
  "language_info": {
   "codemirror_mode": {
    "name": "ipython",
    "version": 3
   },
   "file_extension": ".py",
   "mimetype": "text/x-python",
   "name": "python",
   "nbconvert_exporter": "python",
   "pygments_lexer": "ipython3",
   "version": "3.12.4"
  }
 },
 "nbformat": 4,
 "nbformat_minor": 5
}
