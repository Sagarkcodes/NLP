{
 "cells": [
  {
   "cell_type": "code",
   "execution_count": 13,
   "id": "8d3bc0b9-b28a-40b8-a199-0f3b4ec07096",
   "metadata": {},
   "outputs": [
    {
     "name": "stdout",
     "output_type": "stream",
     "text": [
      "After 'natural', predicted: language\n"
     ]
    }
   ],
   "source": [
    "# N-Gram Model Implementation\n",
    "\n",
    "from collections import defaultdict\n",
    "\n",
    "class NGramModel:\n",
    "    def __init__(self, n):\n",
    "        self.n = n\n",
    "        self.ngrams = defaultdict(lambda: defaultdict(int))\n",
    "        self.contexts = defaultdict(int)\n",
    "\n",
    "    def train(self, texts):\n",
    "        for text in texts:\n",
    "            words = ['<START>'] + text.lower().split() + ['<END>']\n",
    "            for i in range(len(words) - self.n + 1):\n",
    "                context = tuple(words[i:i + self.n - 1])\n",
    "                target = words[i + self.n - 1]\n",
    "                self.ngrams[context][target] += 1\n",
    "                self.contexts[context] += 1\n",
    "\n",
    "    def predict(self, context):\n",
    "        context = tuple(context)\n",
    "        return max(self.ngrams[context].items(), key=lambda x: x[1])[0] if context in self.contexts else None\n",
    "\n",
    "# Example usage\n",
    "model = NGramModel(2)  # Bigram model\n",
    "texts = [\"I love natural language processing\", \"natural language models are fascinating\"]\n",
    "model.train(texts)\n",
    "\n",
    "print(f\"After 'natural', predicted: {model.predict(['natural'])}\")\n"
   ]
  },
  {
   "cell_type": "code",
   "execution_count": null,
   "id": "98df8d8b-4d55-441c-975d-b8cf74451e56",
   "metadata": {},
   "outputs": [],
   "source": []
  }
 ],
 "metadata": {
  "kernelspec": {
   "display_name": "Python 3 (ipykernel)",
   "language": "python",
   "name": "python3"
  },
  "language_info": {
   "codemirror_mode": {
    "name": "ipython",
    "version": 3
   },
   "file_extension": ".py",
   "mimetype": "text/x-python",
   "name": "python",
   "nbconvert_exporter": "python",
   "pygments_lexer": "ipython3",
   "version": "3.12.4"
  }
 },
 "nbformat": 4,
 "nbformat_minor": 5
}
